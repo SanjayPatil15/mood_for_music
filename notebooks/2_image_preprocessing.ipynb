{
 "cells": [
  {
   "cell_type": "code",
   "execution_count": 1,
   "metadata": {},
   "outputs": [],
   "source": [
    "import os\n",
    "import cv2\n",
    "import numpy as np\n",
    "from keras.applications.vgg16 import VGG16, preprocess_input\n",
    "from keras.models import Model"
   ]
  },
  {
   "cell_type": "code",
   "execution_count": null,
   "metadata": {},
   "outputs": [],
   "source": [
    "# Initialize VGG16 model for feature extraction (without the top layer)\n",
    "base_model = VGG16(weights='imagenet', include_top=False)\n",
    "model = Model(inputs=base_model.input, outputs=base_model.output)"
   ]
  },
  {
   "cell_type": "code",
   "execution_count": 3,
   "metadata": {},
   "outputs": [],
   "source": [
    "def preprocess_image(image_path, target_size=(224, 224)):\n",
    "    # Load and resize image\n",
    "    img = cv2.imread(image_path)\n",
    "    img = cv2.cvtColor(img, cv2.COLOR_BGR2RGB)  # Convert from BGR to RGB\n",
    "    img = cv2.resize(img, target_size)\n",
    "    img = np.expand_dims(img, axis=0)\n",
    "    img = preprocess_input(img)\n",
    "    return img"
   ]
  },
  {
   "cell_type": "code",
   "execution_count": 4,
   "metadata": {},
   "outputs": [],
   "source": [
    "def extract_features(image_path):\n",
    "    # Extract features from image using VGG16\n",
    "    processed_image = preprocess_image(image_path)\n",
    "    features = model.predict(processed_image)\n",
    "    return features.flatten()"
   ]
  },
  {
   "cell_type": "code",
   "execution_count": null,
   "metadata": {},
   "outputs": [],
   "source": [
    "# feature extraction\n",
    "\n",
    "train_folder = '../data/raw_data/train'\n",
    "\n",
    "features_list = []\n",
    "labels_list = []\n",
    "\n",
    "# Iterate over all subfolders (mood categories) in the train folder\n",
    "for mood in os.listdir(train_folder):\n",
    "    mood_folder = os.path.join(train_folder, mood)\n",
    "    \n",
    "    # Check if it's a directory\n",
    "    if os.path.isdir(mood_folder):\n",
    "        # Iterate over all images in the mood subfolder\n",
    "        for image_name in os.listdir(mood_folder):\n",
    "            image_path = os.path.join(mood_folder, image_name)\n",
    "            \n",
    "            # Extract features from the image\n",
    "            features = extract_features(image_path)\n",
    "            \n",
    "            # Append the features and corresponding mood label\n",
    "            features_list.append(features)\n",
    "            labels_list.append(mood)"
   ]
  },
  {
   "cell_type": "code",
   "execution_count": null,
   "metadata": {},
   "outputs": [],
   "source": [
    "# Convert features and labels to NumPy arrays\n",
    "features_array = np.array(features_list)\n",
    "labels_array = np.array(labels_list)\n",
    "\n",
    "# Save the features and labels to a .npz file\n",
    "np.savez('../data/features_and_labels.npz', features=features_array, labels=labels_array)\n",
    "\n",
    "print(\"Features and labels saved successfully!\")"
   ]
  }
 ],
 "metadata": {
  "kernelspec": {
   "display_name": "mood_for_music",
   "language": "python",
   "name": "python3"
  },
  "language_info": {
   "codemirror_mode": {
    "name": "ipython",
    "version": 3
   },
   "file_extension": ".py",
   "mimetype": "text/x-python",
   "name": "python",
   "nbconvert_exporter": "python",
   "pygments_lexer": "ipython3",
   "version": "3.10.13"
  }
 },
 "nbformat": 4,
 "nbformat_minor": 4
}
