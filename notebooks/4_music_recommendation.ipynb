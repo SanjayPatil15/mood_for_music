{
 "cells": [
  {
   "cell_type": "code",
   "execution_count": 2,
   "metadata": {},
   "outputs": [],
   "source": [
    "import pandas as pd\n",
    "from sklearn.neighbors import NearestNeighbors"
   ]
  },
  {
   "cell_type": "code",
   "execution_count": 3,
   "metadata": {},
   "outputs": [],
   "source": [
    "# Load the music dataset\n",
    "music_df = pd.read_csv('../data/raw_data/data_moods.csv')"
   ]
  },
  {
   "cell_type": "code",
   "execution_count": 4,
   "metadata": {},
   "outputs": [],
   "source": [
    "# Feature selection (we use mood-related features for simplicity)\n",
    "features = music_df[['danceability', 'energy', 'acousticness', 'valence', 'loudness', 'tempo']]"
   ]
  },
  {
   "cell_type": "code",
   "execution_count": null,
   "metadata": {},
   "outputs": [],
   "source": [
    "# Train a NearestNeighbors model\n",
    "knn = NearestNeighbors(n_neighbors=5)\n",
    "knn.fit(features)"
   ]
  },
  {
   "cell_type": "code",
   "execution_count": 6,
   "metadata": {},
   "outputs": [],
   "source": [
    "# Function to recommend music based on mood\n",
    "def recommend_music(mood, features_df, knn_model):\n",
    "    # Get the mood's row in the music dataset\n",
    "    mood_features = features_df[music_df['mood'] == mood].mean().values.reshape(1, -1)\n",
    "    # Find nearest neighbors\n",
    "    distances, indices = knn_model.kneighbors(mood_features)\n",
    "    return music_df.iloc[indices[0]]"
   ]
  },
  {
   "cell_type": "code",
   "execution_count": null,
   "metadata": {},
   "outputs": [],
   "source": [
    "# Example: Recommend music for a 'Happy' mood\n",
    "recommended_songs = recommend_music('Happy', features, knn)\n",
    "print(recommended_songs[['name', 'artist', 'album']])"
   ]
  },
  {
   "cell_type": "code",
   "execution_count": null,
   "metadata": {},
   "outputs": [],
   "source": []
  }
 ],
 "metadata": {
  "kernelspec": {
   "display_name": "mood_for_music",
   "language": "python",
   "name": "python3"
  },
  "language_info": {
   "codemirror_mode": {
    "name": "ipython",
    "version": 3
   },
   "file_extension": ".py",
   "mimetype": "text/x-python",
   "name": "python",
   "nbconvert_exporter": "python",
   "pygments_lexer": "ipython3",
   "version": "3.10.13"
  }
 },
 "nbformat": 4,
 "nbformat_minor": 2
}
